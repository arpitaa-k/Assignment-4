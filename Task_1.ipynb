version https://git-lfs.github.com/spec/v1
oid sha256:c86e8b6bdcb6aaa0978bf0d299f04dc4a6fc2dc8dafd67a87ee748ffbb58ffb4
size 64431549
